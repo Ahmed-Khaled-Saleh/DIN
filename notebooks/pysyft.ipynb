{
 "cells": [
  {
   "cell_type": "code",
   "execution_count": 9,
   "metadata": {},
   "outputs": [
    {
     "name": "stderr",
     "output_type": "stream",
     "text": [
      "/media/ahmed/code/python_envs/anaconda3/envs/de-zoomcamp/lib/python3.9/site-packages/numpy/lib/function_base.py:1236: RuntimeWarning: divide by zero encountered in divide\n",
      "  out[tuple(slice1)] = (f[tuple(slice4)] - f[tuple(slice2)]) / (2. * ax_dx)\n",
      "/media/ahmed/code/python_envs/anaconda3/envs/de-zoomcamp/lib/python3.9/site-packages/numpy/lib/function_base.py:1257: RuntimeWarning: divide by zero encountered in divide\n",
      "  out[tuple(slice1)] = (f[tuple(slice2)] - f[tuple(slice3)]) / dx_0\n",
      "/media/ahmed/code/python_envs/anaconda3/envs/de-zoomcamp/lib/python3.9/site-packages/numpy/lib/function_base.py:1264: RuntimeWarning: divide by zero encountered in divide\n",
      "  out[tuple(slice1)] = (f[tuple(slice2)] - f[tuple(slice3)]) / dx_n\n"
     ]
    },
    {
     "ename": "TypeError",
     "evalue": "invalid number of arguments",
     "output_type": "error",
     "traceback": [
      "\u001b[0;31m---------------------------------------------------------------------------\u001b[0m",
      "\u001b[0;31mTypeError\u001b[0m                                 Traceback (most recent call last)",
      "Cell \u001b[0;32mIn[9], line 16\u001b[0m\n\u001b[1;32m     13\u001b[0m     \u001b[39mreturn\u001b[39;00m hessian\n\u001b[1;32m     15\u001b[0m x_0 \u001b[39m=\u001b[39m np\u001b[39m.\u001b[39mrandom\u001b[39m.\u001b[39mrandom((\u001b[39m123\u001b[39m, \u001b[39m80\u001b[39m))\n\u001b[0;32m---> 16\u001b[0m \u001b[39mprint\u001b[39m(compute_hessian(x_0))\n",
      "Cell \u001b[0;32mIn[9], line 11\u001b[0m, in \u001b[0;36mcompute_hessian\u001b[0;34m(f)\u001b[0m\n\u001b[1;32m      9\u001b[0m \u001b[39mfor\u001b[39;00m i \u001b[39min\u001b[39;00m \u001b[39mrange\u001b[39m(n):\n\u001b[1;32m     10\u001b[0m     \u001b[39mfor\u001b[39;00m j \u001b[39min\u001b[39;00m \u001b[39mrange\u001b[39m(n):\n\u001b[0;32m---> 11\u001b[0m         hessian[i, j] \u001b[39m=\u001b[39m np\u001b[39m.\u001b[39;49mgradient(np\u001b[39m.\u001b[39;49mgradient(f, \u001b[39m*\u001b[39;49mspacing[i]), \u001b[39m*\u001b[39;49mspacing[j])\n\u001b[1;32m     13\u001b[0m \u001b[39mreturn\u001b[39;00m hessian\n",
      "File \u001b[0;32m<__array_function__ internals>:200\u001b[0m, in \u001b[0;36mgradient\u001b[0;34m(*args, **kwargs)\u001b[0m\n",
      "File \u001b[0;32m/media/ahmed/code/python_envs/anaconda3/envs/de-zoomcamp/lib/python3.9/site-packages/numpy/lib/function_base.py:1184\u001b[0m, in \u001b[0;36mgradient\u001b[0;34m(f, axis, edge_order, *varargs)\u001b[0m\n\u001b[1;32m   1182\u001b[0m         dx[i] \u001b[39m=\u001b[39m diffx\n\u001b[1;32m   1183\u001b[0m \u001b[39melse\u001b[39;00m:\n\u001b[0;32m-> 1184\u001b[0m     \u001b[39mraise\u001b[39;00m \u001b[39mTypeError\u001b[39;00m(\u001b[39m\"\u001b[39m\u001b[39minvalid number of arguments\u001b[39m\u001b[39m\"\u001b[39m)\n\u001b[1;32m   1186\u001b[0m \u001b[39mif\u001b[39;00m edge_order \u001b[39m>\u001b[39m \u001b[39m2\u001b[39m:\n\u001b[1;32m   1187\u001b[0m     \u001b[39mraise\u001b[39;00m \u001b[39mValueError\u001b[39;00m(\u001b[39m\"\u001b[39m\u001b[39m'\u001b[39m\u001b[39medge_order\u001b[39m\u001b[39m'\u001b[39m\u001b[39m greater than 2 not supported\u001b[39m\u001b[39m\"\u001b[39m)\n",
      "\u001b[0;31mTypeError\u001b[0m: invalid number of arguments"
     ]
    }
   ],
   "source": [
    "import numpy as np\n",
    "\n",
    "def compute_hessian(f):\n",
    "    n = f.ndim\n",
    "    shape = f.shape\n",
    "    hessian = np.zeros((n, n) + shape)\n",
    "    spacing = np.eye(n) * 1e-5\n",
    "\n",
    "    for i in range(n):\n",
    "        for j in range(n):\n",
    "            hessian[i, j] = np.gradient(np.gradient(f, *spacing[i]), *spacing[j])\n",
    "\n",
    "    return hessian\n",
    "\n",
    "x_0 = np.random.random((123, 80))\n",
    "print(compute_hessian(x_0))"
   ]
  },
  {
   "cell_type": "code",
   "execution_count": 5,
   "metadata": {},
   "outputs": [
    {
     "name": "stdout",
     "output_type": "stream",
     "text": [
      "(123, 80)\n",
      "(2, 123, 80)\n",
      "(2, 2, 123, 80)\n"
     ]
    }
   ],
   "source": [
    "import numpy as np\n",
    "\n",
    "def compute_hessian(array):\n",
    "    gradients = np.gradient(array)\n",
    "    print(np.array(gradients).shape)\n",
    "    hessian = np.empty((2, 2) + array.shape)\n",
    "    for i in range(2):\n",
    "        for j in range(2):\n",
    "            hessian[i, j] = np.gradient(gradients[i], axis=j)\n",
    "    return hessian\n",
    "\n",
    "\n",
    "x_0 = np.random.rand(123, 80)\n",
    "print(x_0.shape)\n",
    "hessian = compute_hessian(x_0)\n",
    "print(hessian.shape)"
   ]
  },
  {
   "cell_type": "code",
   "execution_count": 3,
   "metadata": {},
   "outputs": [
    {
     "ename": "AxisError",
     "evalue": "axis 1 is out of bounds for array of dimension 1",
     "output_type": "error",
     "traceback": [
      "\u001b[0;31m---------------------------------------------------------------------------\u001b[0m",
      "\u001b[0;31mAxisError\u001b[0m                                 Traceback (most recent call last)",
      "Cell \u001b[0;32mIn[3], line 19\u001b[0m\n\u001b[1;32m     15\u001b[0m     \u001b[39mreturn\u001b[39;00m hessian\u001b[39m.\u001b[39mreshape(array\u001b[39m.\u001b[39mshape)\n\u001b[1;32m     18\u001b[0m x_0 \u001b[39m=\u001b[39m np\u001b[39m.\u001b[39mrandom\u001b[39m.\u001b[39mrand(\u001b[39m123\u001b[39m, \u001b[39m80\u001b[39m)\n\u001b[0;32m---> 19\u001b[0m hessian \u001b[39m=\u001b[39m compute_hessian(x_0)\n\u001b[1;32m     20\u001b[0m \u001b[39mprint\u001b[39m(hessian\u001b[39m.\u001b[39mshape)\n",
      "Cell \u001b[0;32mIn[3], line 13\u001b[0m, in \u001b[0;36mcompute_hessian\u001b[0;34m(array)\u001b[0m\n\u001b[1;32m     11\u001b[0m \u001b[39mfor\u001b[39;00m i \u001b[39min\u001b[39;00m \u001b[39mrange\u001b[39m(dim):\n\u001b[1;32m     12\u001b[0m     \u001b[39mfor\u001b[39;00m j \u001b[39min\u001b[39;00m \u001b[39mrange\u001b[39m(dim):\n\u001b[0;32m---> 13\u001b[0m         hessian[i, j] \u001b[39m=\u001b[39m np\u001b[39m.\u001b[39;49mgradient(np\u001b[39m.\u001b[39;49mgradient(array[i, :]), axis\u001b[39m=\u001b[39;49m\u001b[39m1\u001b[39;49m)[j]\n\u001b[1;32m     15\u001b[0m \u001b[39mreturn\u001b[39;00m hessian\u001b[39m.\u001b[39mreshape(array\u001b[39m.\u001b[39mshape)\n",
      "File \u001b[0;32m<__array_function__ internals>:200\u001b[0m, in \u001b[0;36mgradient\u001b[0;34m(*args, **kwargs)\u001b[0m\n",
      "File \u001b[0;32m/media/ahmed/code/python_envs/anaconda3/envs/de-zoomcamp/lib/python3.9/site-packages/numpy/lib/function_base.py:1151\u001b[0m, in \u001b[0;36mgradient\u001b[0;34m(f, axis, edge_order, *varargs)\u001b[0m\n\u001b[1;32m   1149\u001b[0m     axes \u001b[39m=\u001b[39m \u001b[39mtuple\u001b[39m(\u001b[39mrange\u001b[39m(N))\n\u001b[1;32m   1150\u001b[0m \u001b[39melse\u001b[39;00m:\n\u001b[0;32m-> 1151\u001b[0m     axes \u001b[39m=\u001b[39m _nx\u001b[39m.\u001b[39;49mnormalize_axis_tuple(axis, N)\n\u001b[1;32m   1153\u001b[0m len_axes \u001b[39m=\u001b[39m \u001b[39mlen\u001b[39m(axes)\n\u001b[1;32m   1154\u001b[0m n \u001b[39m=\u001b[39m \u001b[39mlen\u001b[39m(varargs)\n",
      "File \u001b[0;32m/media/ahmed/code/python_envs/anaconda3/envs/de-zoomcamp/lib/python3.9/site-packages/numpy/core/numeric.py:1398\u001b[0m, in \u001b[0;36mnormalize_axis_tuple\u001b[0;34m(axis, ndim, argname, allow_duplicate)\u001b[0m\n\u001b[1;32m   1396\u001b[0m         \u001b[39mpass\u001b[39;00m\n\u001b[1;32m   1397\u001b[0m \u001b[39m# Going via an iterator directly is slower than via list comprehension.\u001b[39;00m\n\u001b[0;32m-> 1398\u001b[0m axis \u001b[39m=\u001b[39m \u001b[39mtuple\u001b[39m([normalize_axis_index(ax, ndim, argname) \u001b[39mfor\u001b[39;00m ax \u001b[39min\u001b[39;00m axis])\n\u001b[1;32m   1399\u001b[0m \u001b[39mif\u001b[39;00m \u001b[39mnot\u001b[39;00m allow_duplicate \u001b[39mand\u001b[39;00m \u001b[39mlen\u001b[39m(\u001b[39mset\u001b[39m(axis)) \u001b[39m!=\u001b[39m \u001b[39mlen\u001b[39m(axis):\n\u001b[1;32m   1400\u001b[0m     \u001b[39mif\u001b[39;00m argname:\n",
      "File \u001b[0;32m/media/ahmed/code/python_envs/anaconda3/envs/de-zoomcamp/lib/python3.9/site-packages/numpy/core/numeric.py:1398\u001b[0m, in \u001b[0;36m<listcomp>\u001b[0;34m(.0)\u001b[0m\n\u001b[1;32m   1396\u001b[0m         \u001b[39mpass\u001b[39;00m\n\u001b[1;32m   1397\u001b[0m \u001b[39m# Going via an iterator directly is slower than via list comprehension.\u001b[39;00m\n\u001b[0;32m-> 1398\u001b[0m axis \u001b[39m=\u001b[39m \u001b[39mtuple\u001b[39m([normalize_axis_index(ax, ndim, argname) \u001b[39mfor\u001b[39;00m ax \u001b[39min\u001b[39;00m axis])\n\u001b[1;32m   1399\u001b[0m \u001b[39mif\u001b[39;00m \u001b[39mnot\u001b[39;00m allow_duplicate \u001b[39mand\u001b[39;00m \u001b[39mlen\u001b[39m(\u001b[39mset\u001b[39m(axis)) \u001b[39m!=\u001b[39m \u001b[39mlen\u001b[39m(axis):\n\u001b[1;32m   1400\u001b[0m     \u001b[39mif\u001b[39;00m argname:\n",
      "\u001b[0;31mAxisError\u001b[0m: axis 1 is out of bounds for array of dimension 1"
     ]
    }
   ],
   "source": [
    "import numpy as np\n",
    "\n",
    "def compute_hessian(array):\n",
    "    if array.ndim != 2:\n",
    "        raise ValueError(\"Input array must have 2 dimensions\")\n",
    "\n",
    "    dim = array.shape[0]\n",
    "    n_agent = array.shape[1]\n",
    "    hessian = np.empty((dim, dim, n_agent))\n",
    "\n",
    "    for i in range(dim):\n",
    "        for j in range(dim):\n",
    "            hessian[i, j] = np.gradient(np.gradient(array[i, :]), axis=1)[j]\n",
    "\n",
    "    return hessian.reshape(array.shape)\n",
    "\n",
    "\n",
    "x_0 = np.random.rand(123, 80)\n",
    "hessian = compute_hessian(x_0)\n",
    "print(hessian.shape)"
   ]
  },
  {
   "cell_type": "code",
   "execution_count": 5,
   "metadata": {},
   "outputs": [
    {
     "data": {
      "text/plain": [
       "tensor([[[[4.1145, 0.0000],\n",
       "          [0.0000, 0.0000]],\n",
       "\n",
       "         [[0.0000, 0.9622],\n",
       "          [0.0000, 0.0000]]],\n",
       "\n",
       "\n",
       "        [[[0.0000, 0.0000],\n",
       "          [0.7607, 0.0000]],\n",
       "\n",
       "         [[0.0000, 0.0000],\n",
       "          [0.0000, 3.5233]]]])"
      ]
     },
     "execution_count": 5,
     "metadata": {},
     "output_type": "execute_result"
    }
   ],
   "source": [
    "import torch\n",
    "from torch.autograd.functional import hessian\n",
    "def pow_reducer(x):\n",
    "    return x.pow(3).sum()\n",
    "inputs = torch.rand(2, 2)\n",
    "hessian(pow_reducer, inputs)"
   ]
  },
  {
   "cell_type": "code",
   "execution_count": null,
   "metadata": {},
   "outputs": [],
   "source": [
    "hessian()"
   ]
  },
  {
   "cell_type": "code",
   "execution_count": 7,
   "metadata": {},
   "outputs": [
    {
     "data": {
      "text/plain": [
       "(torch.Size([2, 2, 2, 2]), torch.Size([2, 2]))"
      ]
     },
     "execution_count": 7,
     "metadata": {},
     "output_type": "execute_result"
    }
   ],
   "source": [
    "from torch.autograd.functional import hessian\n",
    "x = np.random.random((123, 80))\n",
    "x_torch = torch.from_numpy(x)\n",
    "hessian(x_torch, inputs).shape"
   ]
  },
  {
   "cell_type": "code",
   "execution_count": null,
   "metadata": {},
   "outputs": [],
   "source": [
    "import torch\n",
    "import torch.autograd as autograd\n",
    "\n",
    "# Define the logistic loss function\n",
    "def logistic_loss(targets, predictions):\n",
    "    return torch.mean(torch.log(1 + torch.exp(-targets * predictions)))\n",
    "\n",
    "# Create tensors for targets and predictions\n",
    "targets = torch.tensor([1, 0, 1])\n",
    "predictions = torch.tensor([0.5, -0.2, 0.8], requires_grad=True)\n",
    "\n",
    "# Compute the gradients of the logistic loss with respect to the predictions\n",
    "grads = autograd.grad(logistic_loss(targets, predictions), predictions, create_graph=True)\n",
    "\n",
    "# Compute the Hessian matrix\n",
    "hessian = []\n",
    "for grad in grads:\n",
    "    hess = autograd.grad(grad, predictions, retain_graph=True)\n",
    "    hessian.append(hess[0])\n",
    "\n",
    "# Convert the Hessian to a Torch tensor\n",
    "hessian = torch.stack(hessian)\n",
    "\n",
    "print(hessian)\n"
   ]
  }
 ],
 "metadata": {
  "kernelspec": {
   "display_name": "de-zoomcamp",
   "language": "python",
   "name": "python3"
  },
  "language_info": {
   "codemirror_mode": {
    "name": "ipython",
    "version": 3
   },
   "file_extension": ".py",
   "mimetype": "text/x-python",
   "name": "python",
   "nbconvert_exporter": "python",
   "pygments_lexer": "ipython3",
   "version": "3.9.16"
  },
  "orig_nbformat": 4
 },
 "nbformat": 4,
 "nbformat_minor": 2
}
